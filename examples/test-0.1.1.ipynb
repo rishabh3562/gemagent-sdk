{
 "cells": [
  {
   "cell_type": "code",
   "execution_count": 2,
   "id": "d6512d25",
   "metadata": {},
   "outputs": [
    {
     "name": "stdout",
     "output_type": "stream",
     "text": [
      "Collecting gemagent==0.1.1\n",
      "  Using cached gemagent-0.1.1-py3-none-any.whl (6.9 kB)\n",
      "Requirement already satisfied: google-generativeai>=0.2.0 in d:\\rishabh\\github\\gemagent-sdk\\venv\\lib\\site-packages (from gemagent==0.1.1) (0.8.5)\n",
      "Requirement already satisfied: python-dotenv>=0.20.0 in d:\\rishabh\\github\\gemagent-sdk\\venv\\lib\\site-packages (from gemagent==0.1.1) (1.1.0)\n",
      "Requirement already satisfied: nest_asyncio>=1.5.6 in d:\\rishabh\\github\\gemagent-sdk\\venv\\lib\\site-packages (from gemagent==0.1.1) (1.6.0)\n",
      "Requirement already satisfied: google-auth>=2.15.0 in d:\\rishabh\\github\\gemagent-sdk\\venv\\lib\\site-packages (from google-generativeai>=0.2.0->gemagent==0.1.1) (2.40.2)\n",
      "Requirement already satisfied: pydantic in d:\\rishabh\\github\\gemagent-sdk\\venv\\lib\\site-packages (from google-generativeai>=0.2.0->gemagent==0.1.1) (2.11.5)\n",
      "Requirement already satisfied: google-api-core in d:\\rishabh\\github\\gemagent-sdk\\venv\\lib\\site-packages (from google-generativeai>=0.2.0->gemagent==0.1.1) (2.25.0)\n",
      "Requirement already satisfied: protobuf in d:\\rishabh\\github\\gemagent-sdk\\venv\\lib\\site-packages (from google-generativeai>=0.2.0->gemagent==0.1.1) (5.29.5)\n",
      "Requirement already satisfied: tqdm in d:\\rishabh\\github\\gemagent-sdk\\venv\\lib\\site-packages (from google-generativeai>=0.2.0->gemagent==0.1.1) (4.67.1)\n",
      "Requirement already satisfied: typing-extensions in d:\\rishabh\\github\\gemagent-sdk\\venv\\lib\\site-packages (from google-generativeai>=0.2.0->gemagent==0.1.1) (4.14.0)\n",
      "Requirement already satisfied: google-api-python-client in d:\\rishabh\\github\\gemagent-sdk\\venv\\lib\\site-packages (from google-generativeai>=0.2.0->gemagent==0.1.1) (2.171.0)\n",
      "Requirement already satisfied: google-ai-generativelanguage==0.6.15 in d:\\rishabh\\github\\gemagent-sdk\\venv\\lib\\site-packages (from google-generativeai>=0.2.0->gemagent==0.1.1) (0.6.15)\n",
      "Requirement already satisfied: proto-plus<2.0.0dev,>=1.22.3 in d:\\rishabh\\github\\gemagent-sdk\\venv\\lib\\site-packages (from google-ai-generativelanguage==0.6.15->google-generativeai>=0.2.0->gemagent==0.1.1) (1.26.1)\n",
      "Requirement already satisfied: rsa<5,>=3.1.4 in d:\\rishabh\\github\\gemagent-sdk\\venv\\lib\\site-packages (from google-auth>=2.15.0->google-generativeai>=0.2.0->gemagent==0.1.1) (4.9.1)\n",
      "Requirement already satisfied: pyasn1-modules>=0.2.1 in d:\\rishabh\\github\\gemagent-sdk\\venv\\lib\\site-packages (from google-auth>=2.15.0->google-generativeai>=0.2.0->gemagent==0.1.1) (0.4.2)\n",
      "Requirement already satisfied: cachetools<6.0,>=2.0.0 in d:\\rishabh\\github\\gemagent-sdk\\venv\\lib\\site-packages (from google-auth>=2.15.0->google-generativeai>=0.2.0->gemagent==0.1.1) (5.5.2)\n",
      "Requirement already satisfied: googleapis-common-protos<2.0.0,>=1.56.2 in d:\\rishabh\\github\\gemagent-sdk\\venv\\lib\\site-packages (from google-api-core->google-generativeai>=0.2.0->gemagent==0.1.1) (1.70.0)\n",
      "Requirement already satisfied: requests<3.0.0,>=2.18.0 in d:\\rishabh\\github\\gemagent-sdk\\venv\\lib\\site-packages (from google-api-core->google-generativeai>=0.2.0->gemagent==0.1.1) (2.32.3)\n",
      "Requirement already satisfied: httplib2<1.0.0,>=0.19.0 in d:\\rishabh\\github\\gemagent-sdk\\venv\\lib\\site-packages (from google-api-python-client->google-generativeai>=0.2.0->gemagent==0.1.1) (0.22.0)\n",
      "Requirement already satisfied: google-auth-httplib2<1.0.0,>=0.2.0 in d:\\rishabh\\github\\gemagent-sdk\\venv\\lib\\site-packages (from google-api-python-client->google-generativeai>=0.2.0->gemagent==0.1.1) (0.2.0)\n",
      "Requirement already satisfied: uritemplate<5,>=3.0.1 in d:\\rishabh\\github\\gemagent-sdk\\venv\\lib\\site-packages (from google-api-python-client->google-generativeai>=0.2.0->gemagent==0.1.1) (4.2.0)\n",
      "Requirement already satisfied: typing-inspection>=0.4.0 in d:\\rishabh\\github\\gemagent-sdk\\venv\\lib\\site-packages (from pydantic->google-generativeai>=0.2.0->gemagent==0.1.1) (0.4.1)\n",
      "Requirement already satisfied: annotated-types>=0.6.0 in d:\\rishabh\\github\\gemagent-sdk\\venv\\lib\\site-packages (from pydantic->google-generativeai>=0.2.0->gemagent==0.1.1) (0.7.0)\n",
      "Requirement already satisfied: pydantic-core==2.33.2 in d:\\rishabh\\github\\gemagent-sdk\\venv\\lib\\site-packages (from pydantic->google-generativeai>=0.2.0->gemagent==0.1.1) (2.33.2)\n",
      "Requirement already satisfied: colorama in d:\\rishabh\\github\\gemagent-sdk\\venv\\lib\\site-packages (from tqdm->google-generativeai>=0.2.0->gemagent==0.1.1) (0.4.6)\n",
      "Requirement already satisfied: grpcio<2.0.0,>=1.33.2 in d:\\rishabh\\github\\gemagent-sdk\\venv\\lib\\site-packages (from google-api-core->google-generativeai>=0.2.0->gemagent==0.1.1) (1.72.1)\n",
      "Requirement already satisfied: grpcio-status<2.0.0,>=1.33.2 in d:\\rishabh\\github\\gemagent-sdk\\venv\\lib\\site-packages (from google-api-core->google-generativeai>=0.2.0->gemagent==0.1.1) (1.71.0)\n",
      "Requirement already satisfied: pyparsing!=3.0.0,!=3.0.1,!=3.0.2,!=3.0.3,<4,>=2.4.2 in d:\\rishabh\\github\\gemagent-sdk\\venv\\lib\\site-packages (from httplib2<1.0.0,>=0.19.0->google-api-python-client->google-generativeai>=0.2.0->gemagent==0.1.1) (3.2.3)\n",
      "Requirement already satisfied: pyasn1<0.7.0,>=0.6.1 in d:\\rishabh\\github\\gemagent-sdk\\venv\\lib\\site-packages (from pyasn1-modules>=0.2.1->google-auth>=2.15.0->google-generativeai>=0.2.0->gemagent==0.1.1) (0.6.1)\n",
      "Requirement already satisfied: certifi>=2017.4.17 in d:\\rishabh\\github\\gemagent-sdk\\venv\\lib\\site-packages (from requests<3.0.0,>=2.18.0->google-api-core->google-generativeai>=0.2.0->gemagent==0.1.1) (2025.4.26)\n",
      "Requirement already satisfied: idna<4,>=2.5 in d:\\rishabh\\github\\gemagent-sdk\\venv\\lib\\site-packages (from requests<3.0.0,>=2.18.0->google-api-core->google-generativeai>=0.2.0->gemagent==0.1.1) (3.10)\n",
      "Requirement already satisfied: charset-normalizer<4,>=2 in d:\\rishabh\\github\\gemagent-sdk\\venv\\lib\\site-packages (from requests<3.0.0,>=2.18.0->google-api-core->google-generativeai>=0.2.0->gemagent==0.1.1) (3.4.2)\n",
      "Requirement already satisfied: urllib3<3,>=1.21.1 in d:\\rishabh\\github\\gemagent-sdk\\venv\\lib\\site-packages (from requests<3.0.0,>=2.18.0->google-api-core->google-generativeai>=0.2.0->gemagent==0.1.1) (2.4.0)\n",
      "Installing collected packages: gemagent\n",
      "  Attempting uninstall: gemagent\n",
      "    Found existing installation: gemagent 0.1.0\n",
      "    Uninstalling gemagent-0.1.0:\n",
      "      Successfully uninstalled gemagent-0.1.0\n",
      "Successfully installed gemagent-0.1.1\n",
      "Note: you may need to restart the kernel to use updated packages.\n"
     ]
    },
    {
     "name": "stderr",
     "output_type": "stream",
     "text": [
      "\n",
      "[notice] A new release of pip is available: 23.0.1 -> 25.1.1\n",
      "[notice] To update, run: python.exe -m pip install --upgrade pip\n"
     ]
    }
   ],
   "source": [
    "%pip install gemagent==0.1.1\n"
   ]
  },
  {
   "cell_type": "code",
   "execution_count": 7,
   "id": "0ebfe14f",
   "metadata": {},
   "outputs": [
    {
     "data": {
      "text/plain": [
       "True"
      ]
     },
     "execution_count": 7,
     "metadata": {},
     "output_type": "execute_result"
    }
   ],
   "source": [
    "# test_gemagent_sdk.ipynb\n",
    "\n",
    "from gemagent.agent import Agent, Runner\n",
    "from gemagent.tools import TOOL_REGISTRY, tool_custom as tool\n",
    "from gemagent.config import configure\n",
    "import os\n",
    "from dotenv import load_dotenv\n",
    "\n",
    "load_dotenv(override=True)  # Make sure .env contains your API key\n"
   ]
  },
  {
   "cell_type": "code",
   "execution_count": 8,
   "id": "fb0d0e3e",
   "metadata": {},
   "outputs": [],
   "source": [
    "configure(api_key=os.getenv(\"GOOGLE_API_KEY\"))"
   ]
  },
  {
   "cell_type": "code",
   "execution_count": 9,
   "id": "d6967753",
   "metadata": {},
   "outputs": [
    {
     "name": "stdout",
     "output_type": "stream",
     "text": [
      "Available tools:\n",
      "- say_hello\n",
      "- word_count\n"
     ]
    }
   ],
   "source": [
    "print(  \"Available tools:\")\n",
    "for tool_name in TOOL_REGISTRY:\n",
    "    print(f\"- {tool_name}\")"
   ]
  },
  {
   "cell_type": "code",
   "execution_count": 10,
   "id": "00454b0c",
   "metadata": {},
   "outputs": [
    {
     "name": "stdout",
     "output_type": "stream",
     "text": [
      "Available tools: dict_keys(['say_hello', 'word_count'])\n"
     ]
    }
   ],
   "source": [
    "print(\"Available tools:\", TOOL_REGISTRY.keys())"
   ]
  },
  {
   "cell_type": "code",
   "execution_count": 12,
   "id": "ce27f1f3",
   "metadata": {},
   "outputs": [
    {
     "name": "stdout",
     "output_type": "stream",
     "text": [
      "api_key: AIzaS\n"
     ]
    }
   ],
   "source": [
    "print(\"api_key:\", os.getenv(\"GOOGLE_API_KEY\")[:5])"
   ]
  },
  {
   "cell_type": "code",
   "execution_count": 13,
   "id": "e042a786",
   "metadata": {},
   "outputs": [],
   "source": [
    "\n",
    "# 🔧 Tool setup\n",
    "@tool(name=\"say_hello\")\n",
    "def say_hello(name: str) -> str:\n",
    "    return f\"Hello, {name}!\"\n",
    "\n",
    "# ToolRegistry.register(say_hello)\n"
   ]
  },
  {
   "cell_type": "code",
   "execution_count": 14,
   "id": "01b40414",
   "metadata": {},
   "outputs": [],
   "source": [
    "agent = Agent(\n",
    "    name=\"GeminiHelper\",\n",
    "    instructions=\"You help users and call tools when needed.\",\n",
    "   \n",
    "    model=\"gemini-1.5-flash\",\n",
    "    verbose=True\n",
    ")"
   ]
  },
  {
   "cell_type": "code",
   "execution_count": 15,
   "id": "b9f73644",
   "metadata": {},
   "outputs": [
    {
     "name": "stdout",
     "output_type": "stream",
     "text": [
      "Hello Rishabh!\n",
      "\n",
      "\n"
     ]
    }
   ],
   "source": [
    "await Runner.run_streamed(agent, \"Can you say hello to Rishabh?\")\n",
    "print(\"\\n\\n\")"
   ]
  }
 ],
 "metadata": {
  "kernelspec": {
   "display_name": "venv",
   "language": "python",
   "name": "python3"
  },
  "language_info": {
   "codemirror_mode": {
    "name": "ipython",
    "version": 3
   },
   "file_extension": ".py",
   "mimetype": "text/x-python",
   "name": "python",
   "nbconvert_exporter": "python",
   "pygments_lexer": "ipython3",
   "version": "3.10.11"
  }
 },
 "nbformat": 4,
 "nbformat_minor": 5
}
